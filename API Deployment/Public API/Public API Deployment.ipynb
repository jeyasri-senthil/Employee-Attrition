{
  "nbformat": 4,
  "nbformat_minor": 0,
  "metadata": {
    "colab": {
      "provenance": []
    },
    "kernelspec": {
      "name": "python3",
      "display_name": "Python 3"
    },
    "language_info": {
      "name": "python"
    }
  },
  "cells": [
    {
      "cell_type": "markdown",
      "source": [
        "### ***Installing the Dependencies***"
      ],
      "metadata": {
        "id": "PGn5qGKn2Et7"
      }
    },
    {
      "cell_type": "code",
      "execution_count": null,
      "metadata": {
        "id": "xPp4xSAs0sxG"
      },
      "outputs": [],
      "source": [
        "\"\"\"\n",
        "!pip install fastapi\n",
        "!pip install uvicorn\n",
        "!pip install pickle5\n",
        "!pip install pyngrok\n",
        "!pip install pydantic\n",
        "!pip install requests\n",
        "!pip install pypi-json\n",
        "!pip install scikit-learn\n",
        "!pip install nest-asyncio\n",
        "\n",
        "\"\"\""
      ]
    },
    {
      "cell_type": "code",
      "source": [
        "import json\n",
        "import pickle\n",
        "import uvicorn\n",
        "import nest_asyncio\n",
        "from pyngrok import ngrok\n",
        "from fastapi import FastAPI\n",
        "from pydantic import BaseModel\n",
        "from fastapi.middleware.cors import CORSMiddleware"
      ],
      "metadata": {
        "id": "7CaHenfp1CYA"
      },
      "execution_count": 3,
      "outputs": []
    },
    {
      "cell_type": "code",
      "source": [
        "app = FastAPI()"
      ],
      "metadata": {
        "id": "ZNT1QniD2inH"
      },
      "execution_count": 4,
      "outputs": []
    },
    {
      "cell_type": "code",
      "source": [
        "origins = [\"*\"]\n",
        "\n",
        "app.add_middleware(\n",
        "    CORSMiddleware,\n",
        "    allow_origins=origins,\n",
        "    allow_credentials=True,\n",
        "    allow_methods=[\"*\"],\n",
        "    allow_headers=[\"*\"]\n",
        ")"
      ],
      "metadata": {
        "id": "NeBKd93_2ygg"
      },
      "execution_count": 5,
      "outputs": []
    },
    {
      "cell_type": "code",
      "source": [
        "class model_input(BaseModel):\n",
        "    SatisfactionLevel : float\n",
        "    LastEvaluation : float\n",
        "    ProjectCount : int\n",
        "    AverageMonthlyHours : int\n",
        "    TimeSpent : int\n",
        "    WorkAccident : int\n",
        "    PromotionLast_5Years : int\n",
        "    Salary : int"
      ],
      "metadata": {
        "id": "AozMqFrP3QiX"
      },
      "execution_count": 6,
      "outputs": []
    },
    {
      "cell_type": "code",
      "source": [
        "# loading the saved model\n",
        "model = pickle.load(open('employee_attrition.sav', 'rb'))"
      ],
      "metadata": {
        "id": "XSPQ7CY33cfW"
      },
      "execution_count": 7,
      "outputs": []
    },
    {
      "cell_type": "code",
      "source": [
        "@app.post('/employee_attrition')\n",
        "def attrition_prediction(input_parameters : model_input):\n",
        "\n",
        "    input_data = input_parameters.json()\n",
        "    input_dictionary = json.loads(input_data)\n",
        "\n",
        "    satisfyLevel = input_dictionary['SatisfactionLevel']\n",
        "    lastEvaluation = input_dictionary['LastEvaluation']\n",
        "    projectCount = input_dictionary['ProjectCount']\n",
        "    avgMonthHours = input_dictionary['AverageMonthlyHours']\n",
        "    timeSpent = input_dictionary['TimeSpent']\n",
        "    workAccident = input_dictionary['WorkAccident']\n",
        "    promotionGiven = input_dictionary['PromotionLast_5Years']\n",
        "    salary = input_dictionary['Salary']\n",
        "\n",
        "    input_list = [satisfyLevel, lastEvaluation, projectCount, avgMonthHours, timeSpent, workAccident, promotionGiven, salary]\n",
        "\n",
        "    prediction = model.predict([input_list])\n",
        "\n",
        "    if(prediction[0] == 0):\n",
        "        return \"The employee is still working in the organization.\"\n",
        "    else:\n",
        "        return \"The employee left the organization.\""
      ],
      "metadata": {
        "id": "pLSJJdm23h8u"
      },
      "execution_count": 8,
      "outputs": []
    },
    {
      "cell_type": "code",
      "source": [
        "ngrok.set_auth_token(\"2eGt3d5tWley6Yx3hzHTTbzC2d0_5ukXyp7J9Dia55taeNcmt\")\n",
        "ngrok_tunnel = ngrok.connect(8000)\n",
        "print('Public URL:', ngrok_tunnel.public_url)\n",
        "nest_asyncio.apply()\n",
        "uvicorn.run(app, port=8000)"
      ],
      "metadata": {
        "id": "d5ljrvUH3xZq"
      },
      "execution_count": null,
      "outputs": []
    },
    {
      "cell_type": "code",
      "source": [],
      "metadata": {
        "id": "OUYI4Q0X4Myp"
      },
      "execution_count": null,
      "outputs": []
    }
  ]
}